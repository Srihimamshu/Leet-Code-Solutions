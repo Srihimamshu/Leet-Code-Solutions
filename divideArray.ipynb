{
 "cells": [
  {
   "cell_type": "code",
   "execution_count": null,
   "id": "23e1eb7b",
   "metadata": {},
   "outputs": [],
   "source": [
    "#Feb 1st, 2024\n",
    "def divideArray(nums,k):\n",
    "    n=len(nums)\n",
    "    res=[]\n",
    "    nums.sort()\n",
    "    for i in range(0,n,3):\n",
    "        if i+2<n:\n",
    "            if nums[i+2]-nums[i]>k:\n",
    "                return []\n",
    "            res.append([nums[i],nums[i+1],nums[i+2]])\n",
    "    return res\n",
    "nums=list(map(int,input().split()))\n",
    "k=int(input())\n",
    "print(divideArray(nums,k))"
   ]
  },
  {
   "cell_type": "code",
   "execution_count": null,
   "id": "c241a930",
   "metadata": {},
   "outputs": [],
   "source": []
  }
 ],
 "metadata": {
  "kernelspec": {
   "display_name": "Python 3 (ipykernel)",
   "language": "python",
   "name": "python3"
  },
  "language_info": {
   "codemirror_mode": {
    "name": "ipython",
    "version": 3
   },
   "file_extension": ".py",
   "mimetype": "text/x-python",
   "name": "python",
   "nbconvert_exporter": "python",
   "pygments_lexer": "ipython3",
   "version": "3.10.9"
  }
 },
 "nbformat": 4,
 "nbformat_minor": 5
}
