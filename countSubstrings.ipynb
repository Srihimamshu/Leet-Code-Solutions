{
 "cells": [
  {
   "cell_type": "code",
   "execution_count": null,
   "id": "14170d0e",
   "metadata": {},
   "outputs": [],
   "source": [
    "#feb 10,2024\n",
    "def countSubstrings(s):\n",
    "    n = len(s)\n",
    "    dp = [[False] * n for _ in range(n)]\n",
    "    count = 0\n",
    "    for i in range(n - 1, -1, -1):\n",
    "        for j in range(i, n):    \n",
    "            if i == j:\n",
    "                dp[i][j] = True\n",
    "            elif j == i + 1:   \n",
    "                dp[i][j] = (s[i] == s[j])\n",
    "            else:   \n",
    "                dp[i][j] = (s[i] == s[j]) and dp[i + 1][j - 1]\n",
    "            if dp[i][j]:\n",
    "                count += 1\n",
    "    return count\n",
    "print(countSubstrings(input()))"
   ]
  }
 ],
 "metadata": {
  "kernelspec": {
   "display_name": "Python 3 (ipykernel)",
   "language": "python",
   "name": "python3"
  },
  "language_info": {
   "codemirror_mode": {
    "name": "ipython",
    "version": 3
   },
   "file_extension": ".py",
   "mimetype": "text/x-python",
   "name": "python",
   "nbconvert_exporter": "python",
   "pygments_lexer": "ipython3",
   "version": "3.10.9"
  }
 },
 "nbformat": 4,
 "nbformat_minor": 5
}
