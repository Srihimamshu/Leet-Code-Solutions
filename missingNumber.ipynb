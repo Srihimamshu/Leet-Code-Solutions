{
 "cells": [
  {
   "cell_type": "code",
   "execution_count": null,
   "id": "ce097b82",
   "metadata": {},
   "outputs": [],
   "source": [
    "#feb 20,2024\n",
    "\n",
    "def missingNumber(arr):\n",
    "    return sum(range(len(nums)+1))-sum(nums)\n",
    "print(missingNumber(list(map(int,input().split()))))"
   ]
  }
 ],
 "metadata": {
  "kernelspec": {
   "display_name": "Python 3 (ipykernel)",
   "language": "python",
   "name": "python3"
  },
  "language_info": {
   "codemirror_mode": {
    "name": "ipython",
    "version": 3
   },
   "file_extension": ".py",
   "mimetype": "text/x-python",
   "name": "python",
   "nbconvert_exporter": "python",
   "pygments_lexer": "ipython3",
   "version": "3.10.9"
  }
 },
 "nbformat": 4,
 "nbformat_minor": 5
}
