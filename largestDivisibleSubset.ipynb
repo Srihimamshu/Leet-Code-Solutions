{
 "cells": [
  {
   "cell_type": "code",
   "execution_count": 1,
   "id": "05f77d58",
   "metadata": {},
   "outputs": [
    {
     "name": "stdout",
     "output_type": "stream",
     "text": [
      "2 3 4 6 2\n",
      "[4, 2, 2]\n"
     ]
    }
   ],
   "source": [
    "#Feb 9th,2024\n",
    "def largestDivisibleSubset(nums):\n",
    "    nums.sort()\n",
    "    n = len(nums)\n",
    "    dp = [1] * n\n",
    "    max_size, max_index = 1, 0\n",
    "\n",
    "    for i in range(1, n):\n",
    "        for j in range(i):\n",
    "            if nums[i] % nums[j] == 0:\n",
    "                dp[i] = max(dp[i], dp[j] + 1)\n",
    "                if dp[i] > max_size:\n",
    "                    max_size = dp[i]\n",
    "                    max_index = i\n",
    "\n",
    "    result = []\n",
    "    num = nums[max_index]\n",
    "    for i in range(max_index, -1, -1):\n",
    "        if num % nums[i] == 0 and dp[i] == max_size:\n",
    "            result.append(nums[i])\n",
    "            num = nums[i]\n",
    "            max_size -= 1\n",
    "\n",
    "    return result\n",
    "print(largestDivisibleSubset(list(map(int,input().split()))))"
   ]
  },
  {
   "cell_type": "code",
   "execution_count": null,
   "id": "484f1c71",
   "metadata": {},
   "outputs": [],
   "source": []
  }
 ],
 "metadata": {
  "kernelspec": {
   "display_name": "Python 3 (ipykernel)",
   "language": "python",
   "name": "python3"
  },
  "language_info": {
   "codemirror_mode": {
    "name": "ipython",
    "version": 3
   },
   "file_extension": ".py",
   "mimetype": "text/x-python",
   "name": "python",
   "nbconvert_exporter": "python",
   "pygments_lexer": "ipython3",
   "version": "3.10.9"
  }
 },
 "nbformat": 4,
 "nbformat_minor": 5
}
