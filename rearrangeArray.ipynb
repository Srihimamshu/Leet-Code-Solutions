{
 "cells": [
  {
   "cell_type": "code",
   "execution_count": null,
   "id": "cf62db7d",
   "metadata": {},
   "outputs": [],
   "source": [
    "#feb 14, 2024\n",
    "def rearrangeArray(nums):\n",
    "    pos=[]\n",
    "    neg=[]\n",
    "    ans=[]\n",
    "    for num in nums:\n",
    "        if num>0:\n",
    "            pos.append(num)\n",
    "        else:\n",
    "            neg.append(num)\n",
    "    #print(pos)\n",
    "    #print(neg)\n",
    "    i=0\n",
    "    j=0\n",
    "    while j<len(nums)//2:\n",
    "        ans.append(pos[i])\n",
    "        i+=1\n",
    "        ans.append(neg[j])\n",
    "        j+=1\n",
    "    return ans\n",
    "print(rearrangeArray(list(map(int,input().split()))))"
   ]
  }
 ],
 "metadata": {
  "kernelspec": {
   "display_name": "Python 3 (ipykernel)",
   "language": "python",
   "name": "python3"
  },
  "language_info": {
   "codemirror_mode": {
    "name": "ipython",
    "version": 3
   },
   "file_extension": ".py",
   "mimetype": "text/x-python",
   "name": "python",
   "nbconvert_exporter": "python",
   "pygments_lexer": "ipython3",
   "version": "3.10.9"
  }
 },
 "nbformat": 4,
 "nbformat_minor": 5
}
