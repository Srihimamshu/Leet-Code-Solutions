{
 "cells": [
  {
   "cell_type": "code",
   "execution_count": 3,
   "id": "4cf1c759",
   "metadata": {},
   "outputs": [
    {
     "name": "stdout",
     "output_type": "stream",
     "text": [
      "hi,hello,aba,racecar\n",
      "aba\n"
     ]
    }
   ],
   "source": [
    "#feb 13,2024\n",
    "def firstPalindrome(words):\n",
    "    ans=\"\"\n",
    "    for word in words:\n",
    "        if word==word[::-1]:\n",
    "            ans+=word\n",
    "            break\n",
    "    return ans\n",
    "print(firstPalindrome(list(map(str,input().split(',')))))"
   ]
  },
  {
   "cell_type": "code",
   "execution_count": null,
   "id": "cc6b0169",
   "metadata": {},
   "outputs": [],
   "source": []
  }
 ],
 "metadata": {
  "kernelspec": {
   "display_name": "Python 3 (ipykernel)",
   "language": "python",
   "name": "python3"
  },
  "language_info": {
   "codemirror_mode": {
    "name": "ipython",
    "version": 3
   },
   "file_extension": ".py",
   "mimetype": "text/x-python",
   "name": "python",
   "nbconvert_exporter": "python",
   "pygments_lexer": "ipython3",
   "version": "3.10.9"
  }
 },
 "nbformat": 4,
 "nbformat_minor": 5
}
