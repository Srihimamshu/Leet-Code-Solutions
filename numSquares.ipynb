{
 "cells": [
  {
   "cell_type": "code",
   "execution_count": null,
   "id": "0f0242c0",
   "metadata": {},
   "outputs": [],
   "source": [
    "#Feb 8th,2024\n",
    "def numSquares(self, n: int) -> int:\n",
    "    memo = [-1] * (n + 1)\n",
    "        \n",
    "    def solve(n):\n",
    "        if n == 0:\n",
    "            return 0\n",
    "        if n < 0:\n",
    "            return float('inf')\n",
    "        if memo[n] != -1:\n",
    "            return memo[n]\n",
    "        ans = float('inf')\n",
    "        i = 1\n",
    "        while i * i <= n:\n",
    "            ans = min(ans, 1 + solve(n - i * i))\n",
    "            i += 1\n",
    "        memo[n] = ans\n",
    "        return ans\n",
    "        \n",
    "    return solve(n)\n",
    "print(numSquares(int(input)))"
   ]
  }
 ],
 "metadata": {
  "kernelspec": {
   "display_name": "Python 3 (ipykernel)",
   "language": "python",
   "name": "python3"
  },
  "language_info": {
   "codemirror_mode": {
    "name": "ipython",
    "version": 3
   },
   "file_extension": ".py",
   "mimetype": "text/x-python",
   "name": "python",
   "nbconvert_exporter": "python",
   "pygments_lexer": "ipython3",
   "version": "3.10.9"
  }
 },
 "nbformat": 4,
 "nbformat_minor": 5
}
