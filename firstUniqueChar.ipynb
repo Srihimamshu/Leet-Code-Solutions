{
 "cells": [
  {
   "cell_type": "code",
   "execution_count": 2,
   "id": "59f305bf",
   "metadata": {},
   "outputs": [
    {
     "name": "stdout",
     "output_type": "stream",
     "text": [
      "leetcode\n",
      "0\n"
     ]
    }
   ],
   "source": [
    "#5th Feb,2024\n",
    "from collections import Counter\n",
    "def firstUniqueChar(s):\n",
    "    count=Counter(s)\n",
    "    for i,c in enumerate(s):\n",
    "        if count[c]==1:\n",
    "            return i\n",
    "    return -1\n",
    "print(firstUniqueChar(input()))"
   ]
  },
  {
   "cell_type": "code",
   "execution_count": null,
   "id": "de8ae475",
   "metadata": {},
   "outputs": [],
   "source": []
  }
 ],
 "metadata": {
  "kernelspec": {
   "display_name": "Python 3 (ipykernel)",
   "language": "python",
   "name": "python3"
  },
  "language_info": {
   "codemirror_mode": {
    "name": "ipython",
    "version": 3
   },
   "file_extension": ".py",
   "mimetype": "text/x-python",
   "name": "python",
   "nbconvert_exporter": "python",
   "pygments_lexer": "ipython3",
   "version": "3.10.9"
  }
 },
 "nbformat": 4,
 "nbformat_minor": 5
}
