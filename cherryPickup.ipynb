{
 "cells": [
  {
   "cell_type": "code",
   "execution_count": null,
   "id": "2960d0ad",
   "metadata": {},
   "outputs": [],
   "source": [
    "def cherryPickup(grid):\n",
    "    m, n = len(grid), len(grid[0])\n",
    "    dp = [[[-1] * n for _ in range(n)] for _ in range(m)]\n",
    "    dp[0][0][n-1] = grid[0][0] + grid[0][n-1]\n",
    "\n",
    "    for i in range(1, m):\n",
    "        for j in range(n):\n",
    "            for k in range(j+1, n):\n",
    "                for x in range(-1, 2):\n",
    "                    for y in range(-1, 2):\n",
    "                        if 0 <= j+x < n and 0 <= k+y < n:\n",
    "                            prev = dp[i-1][j+x][k+y]\n",
    "                            if prev != -1:\n",
    "                                dp[i][j][k] = max(dp[i][j][k], prev + grid[i][j] + (grid[i][k] if j != k else 0))\n",
    "\n",
    "    ans = max(max(row) for row in dp[m-1])\n",
    "    return ans if ans != -1 else 0\n",
    "print(cherryPickup(grid))"
   ]
  }
 ],
 "metadata": {
  "kernelspec": {
   "display_name": "Python 3 (ipykernel)",
   "language": "python",
   "name": "python3"
  },
  "language_info": {
   "codemirror_mode": {
    "name": "ipython",
    "version": 3
   },
   "file_extension": ".py",
   "mimetype": "text/x-python",
   "name": "python",
   "nbconvert_exporter": "python",
   "pygments_lexer": "ipython3",
   "version": "3.10.9"
  }
 },
 "nbformat": 4,
 "nbformat_minor": 5
}
