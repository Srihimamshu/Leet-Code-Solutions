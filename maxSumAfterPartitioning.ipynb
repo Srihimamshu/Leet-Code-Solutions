{
 "cells": [
  {
   "cell_type": "code",
   "execution_count": null,
   "id": "e306570d",
   "metadata": {},
   "outputs": [],
   "source": [
    "def maxSumAfterPartitioning(arr,k):\n",
    "    n=len(arr)\n",
    "    x=k+1\n",
    "    dp=[0]*x\n",
    "    for i in range(n-1,-1,-1):\n",
    "        curr=0\n",
    "        last=min(n,i+k)\n",
    "        for j in range(i,last):\n",
    "            curr=max(curr,arr[j])\n",
    "            dp[i%x]=max(dp[i%x],dp[(j+1)%x]+curr*(j-i+1))\n",
    "    return dp[0]\n",
    "arr=list(map(int,input().split()))\n",
    "k=int(input())\n",
    "print(maxSumAfterPartitioning(arr,k))"
   ]
  }
 ],
 "metadata": {
  "kernelspec": {
   "display_name": "Python 3 (ipykernel)",
   "language": "python",
   "name": "python3"
  },
  "language_info": {
   "codemirror_mode": {
    "name": "ipython",
    "version": 3
   },
   "file_extension": ".py",
   "mimetype": "text/x-python",
   "name": "python",
   "nbconvert_exporter": "python",
   "pygments_lexer": "ipython3",
   "version": "3.10.9"
  }
 },
 "nbformat": 4,
 "nbformat_minor": 5
}
