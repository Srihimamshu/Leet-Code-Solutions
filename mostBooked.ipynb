{
 "cells": [
  {
   "cell_type": "code",
   "execution_count": 2,
   "id": "5ad4baa9",
   "metadata": {},
   "outputs": [],
   "source": [
    "#FEB 18,2024\n",
    "def mostBooked(meetings):\n",
    "    ans = [0] * len(meetings)\n",
    "    times = [0] * len(meetings)\n",
    "    meetings.sort()\n",
    "\n",
    "    for start, end in meetings:\n",
    "        flag = False\n",
    "        minind = -1\n",
    "        val = float('inf')\n",
    "        for j in range(len(meetings)):\n",
    "            if times[j] < val:\n",
    "                val = times[j]\n",
    "                minind = j\n",
    "            if times[j] <= start:\n",
    "                flag = True\n",
    "                ans[j] += 1\n",
    "                times[j] = end\n",
    "                break\n",
    "        if not flag:\n",
    "            ans[minind] += 1\n",
    "            times[minind] += (end - start)\n",
    "\n",
    "    maxi = -1\n",
    "    id = -1\n",
    "    for i in range(len(meetings)):\n",
    "        if ans[i] > maxi:\n",
    "            maxi = ans[i]\n",
    "            id = i\n",
    "    return id"
   ]
  },
  {
   "cell_type": "code",
   "execution_count": null,
   "id": "885329ae",
   "metadata": {},
   "outputs": [],
   "source": []
  }
 ],
 "metadata": {
  "kernelspec": {
   "display_name": "Python 3 (ipykernel)",
   "language": "python",
   "name": "python3"
  },
  "language_info": {
   "codemirror_mode": {
    "name": "ipython",
    "version": 3
   },
   "file_extension": ".py",
   "mimetype": "text/x-python",
   "name": "python",
   "nbconvert_exporter": "python",
   "pygments_lexer": "ipython3",
   "version": "3.10.9"
  }
 },
 "nbformat": 4,
 "nbformat_minor": 5
}
