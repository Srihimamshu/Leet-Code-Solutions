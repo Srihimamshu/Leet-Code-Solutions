{
 "cells": [
  {
   "cell_type": "code",
   "execution_count": null,
   "id": "656c24f3",
   "metadata": {},
   "outputs": [],
   "source": [
    "#Feb 15,2024\n",
    "def largestPerimeter(nums):\n",
    "    nums.sort()\n",
    "    n=len(nums)\n",
    "    sum1=sum(nums)\n",
    "    for i in range(n-1,1,-1):\n",
    "        sum1-=nums[i]\n",
    "        if sum1>nums[i]:\n",
    "            return sum1+nums[i]\n",
    "    return -1\n",
    "print(largestPerimeter(list(map(int,input().split()))))"
   ]
  }
 ],
 "metadata": {
  "kernelspec": {
   "display_name": "Python 3 (ipykernel)",
   "language": "python",
   "name": "python3"
  },
  "language_info": {
   "codemirror_mode": {
    "name": "ipython",
    "version": 3
   },
   "file_extension": ".py",
   "mimetype": "text/x-python",
   "name": "python",
   "nbconvert_exporter": "python",
   "pygments_lexer": "ipython3",
   "version": "3.10.9"
  }
 },
 "nbformat": 4,
 "nbformat_minor": 5
}
