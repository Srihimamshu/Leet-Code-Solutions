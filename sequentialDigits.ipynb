{
 "cells": [
  {
   "cell_type": "code",
   "execution_count": null,
   "id": "2fdf4b4e",
   "metadata": {},
   "outputs": [],
   "source": [
    "#Feb 2nd, 2024\n",
    "def sequentialDigits(low,high):\n",
    "    res=[]\n",
    "    n1=len(str(low))\n",
    "    n2=len(str(high))\n",
    "    sub=\"123456789\"\n",
    "    for i in range(n1,n2+1):\n",
    "        for j in range(0,9-i+1):\n",
    "            substr=sub[j:j+i]\n",
    "            num=int(substr)\n",
    "            if low<=num<=high:\n",
    "                res.append(num)\n",
    "    return res\n",
    "low=int(input())\n",
    "high=int(input())\n",
    "print(sequentialDigits(low,high))"
   ]
  }
 ],
 "metadata": {
  "kernelspec": {
   "display_name": "Python 3 (ipykernel)",
   "language": "python",
   "name": "python3"
  },
  "language_info": {
   "codemirror_mode": {
    "name": "ipython",
    "version": 3
   },
   "file_extension": ".py",
   "mimetype": "text/x-python",
   "name": "python",
   "nbconvert_exporter": "python",
   "pygments_lexer": "ipython3",
   "version": "3.10.9"
  }
 },
 "nbformat": 4,
 "nbformat_minor": 5
}
