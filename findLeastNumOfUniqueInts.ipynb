{
 "cells": [
  {
   "cell_type": "code",
   "execution_count": 10,
   "id": "3410eaf6",
   "metadata": {},
   "outputs": [
    {
     "name": "stdout",
     "output_type": "stream",
     "text": [
      "5 5 4\n",
      "1\n",
      "2\n"
     ]
    }
   ],
   "source": [
    "#FEB 16,2024\n",
    "num=list(map(int,input().split()))\n",
    "k=int(input())\n",
    "mp={}\n",
    "for num in arr:\n",
    "    if num in mp:\n",
    "        mp[num]+=1\n",
    "    else:\n",
    "        mp[num]=1\n",
    "    mpsorted=sorted(mp.items(),key=lambda x:x[1])\n",
    "    count=0\n",
    "    for i in mpsorted:\n",
    "        if k<=0:\n",
    "            count+=1\n",
    "            continue\n",
    "        k=k-i[1]\n",
    "        if k<0:\n",
    "            count+=1\n",
    "print(count)"
   ]
  },
  {
   "cell_type": "code",
   "execution_count": null,
   "id": "f45e2b84",
   "metadata": {},
   "outputs": [],
   "source": []
  }
 ],
 "metadata": {
  "kernelspec": {
   "display_name": "Python 3 (ipykernel)",
   "language": "python",
   "name": "python3"
  },
  "language_info": {
   "codemirror_mode": {
    "name": "ipython",
    "version": 3
   },
   "file_extension": ".py",
   "mimetype": "text/x-python",
   "name": "python",
   "nbconvert_exporter": "python",
   "pygments_lexer": "ipython3",
   "version": "3.10.9"
  }
 },
 "nbformat": 4,
 "nbformat_minor": 5
}
